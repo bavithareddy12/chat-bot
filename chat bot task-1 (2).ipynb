{
 "cells": [
  {
   "cell_type": "code",
   "execution_count": 1,
   "id": "42819e09",
   "metadata": {},
   "outputs": [],
   "source": [
    "#Using Python to bulid a Chatbot"
   ]
  },
  {
   "cell_type": "code",
   "execution_count": 2,
   "id": "355e586c",
   "metadata": {},
   "outputs": [],
   "source": [
    "import nltk\n",
    "from nltk.chat.util import Chat, reflections"
   ]
  },
  {
   "cell_type": "code",
   "execution_count": 3,
   "id": "938c1b23",
   "metadata": {},
   "outputs": [],
   "source": [
    "# we define a set of pairs that map user inputs to chatbot responses\n",
    "pairs = [\n",
    "[\n",
    "r\"(.*)my name is (.*)\",\n",
    "[\"Hello %2, How are you today ?\",]\n",
    "],\n",
    "[\n",
    "r\"(.*)help(.*) \",\n",
    "[\"I can help you \",]\n",
    "],\n",
    "[\n",
    "r\"(.*) your name ?\",\n",
    "[\"My name is the cleverprogrammer, but you can just call me robot and I'm a sush,\",]\n",
    "],\n",
    "[\n",
    "r\"how are (.*) ?\",\n",
    "[\"I'm doing very well\", \"i am great !\"]\n",
    "],\n",
    "[\n",
    "r\"sorry (.*)\",\n",
    "[\"Its alright\",\"Its OK, never mind that\",]\n",
    "],\n",
    "[\n",
    "r\"i'm (.*) (good|well|okay|ok)\",\n",
    "[\"Nice to hear that\",\"Alright, great !\",]\n",
    "],\n",
    "[\n",
    "r\"(hi|hey|hello|hola|holla)(.*)\",\n",
    "[\"Hello\", \"Hey there\",]\n",
    "],\n",
    "[\n",
    "r\"what (.*) want ?\",\n",
    "[\"Make me an offer I can't refuse\",]\n",
    "],\n",
    "[\n",
    "r\"(.*)created(.*)\",\n",
    "[\" prakash created me using Python's NLTK library \",\"Prakash ;)\",]\n",
    "],\n",
    "[\n",
    "r\"(.*) (location|city) ?\",\n",
    "['Hyderabd, India',]\n",
    "],\n",
    "[\n",
    "r\"(.*)raining in (.*)\",\n",
    "[\"No rain in the past 4 days here in %2\",\"In %2 there is a 50% chance of rain\",]\n",
    "],\n",
    "[\n",
    "r\"how (.*) health (.*)\",\n",
    "[\"Health is very important, but I am a computer, so I don't need to worry about my health \",]\n",
    "],\n",
    "[\n",
    "r\"(.*)(sports|game|sport)(.*)\",\n",
    "[\"I'm a very big fan of Cricket\",]\n",
    "    ],\n",
    "[\n",
    "r\"who (.*) (Cricketer|Batsman)?\",\n",
    "[\"virat\"]\n",
    "],\n",
    "[\n",
    "r\"quit\",\n",
    "[\"Bye for now. See you soon :) \",\"It was nice talking to you. See you soon :)\"]\n",
    "],\n",
    "[\n",
    "r\"(.*)\",\n",
    "['Our customer service will reach out to you']\n",
    "],\n",
    "]"
   ]
  },
  {
   "cell_type": "code",
   "execution_count": 4,
   "id": "f7d2b596",
   "metadata": {},
   "outputs": [
    {
     "name": "stdout",
     "output_type": "stream",
     "text": [
      "{'i am': 'you are', 'i was': 'you were', 'i': 'you', \"i'm\": 'you are', \"i'd\": 'you would', \"i've\": 'you have', \"i'll\": 'you will', 'my': 'your', 'you are': 'I am', 'you were': 'I was', \"you've\": 'I have', \"you'll\": 'I will', 'your': 'my', 'yours': 'mine', 'you': 'me', 'me': 'you'}\n"
     ]
    }
   ],
   "source": [
    "#chack reflections\n",
    "print(reflections)"
   ]
  },
  {
   "cell_type": "code",
   "execution_count": 5,
   "id": "1302dd91",
   "metadata": {},
   "outputs": [
    {
     "data": {
      "text/plain": [
       "{'i am': 'you are',\n",
       " 'i was': 'you were',\n",
       " 'i': 'you',\n",
       " \"i'm\": 'you are',\n",
       " \"i'd\": 'you would',\n",
       " \"i've\": 'you have',\n",
       " \"i'll\": 'you will',\n",
       " 'my': 'your',\n",
       " 'you are': 'I am',\n",
       " 'you were': 'I was',\n",
       " \"you've\": 'I have',\n",
       " \"you'll\": 'I will',\n",
       " 'your': 'my',\n",
       " 'yours': 'mine',\n",
       " 'you': 'me',\n",
       " 'me': 'you'}"
      ]
     },
     "execution_count": 5,
     "metadata": {},
     "output_type": "execute_result"
    }
   ],
   "source": [
    "reflections"
   ]
  },
  {
   "cell_type": "code",
   "execution_count": 6,
   "id": "db6298bc",
   "metadata": {},
   "outputs": [],
   "source": [
    "my_dummy_reflections = {\"go\" :\"gone\",\"hello\" : \"hey there\"}"
   ]
  },
  {
   "cell_type": "code",
   "execution_count": 7,
   "id": "701f9c1a",
   "metadata": {},
   "outputs": [
    {
     "name": "stdout",
     "output_type": "stream",
     "text": [
      "Hi, I'm thecleverprogrammer and I like to chat\n",
      "Please type Lowercase English language to start a conversation. type quit to leave\n"
     ]
    }
   ],
   "source": [
    "print(\"Hi, I'm thecleverprogrammer and I like to chat\\nPlease type Lowercase English language to start a conversation. type quit to leave\")"
   ]
  },
  {
   "cell_type": "code",
   "execution_count": 8,
   "id": "916d7e13",
   "metadata": {},
   "outputs": [],
   "source": [
    "# create a chat object using these pairs and the reflections library\n",
    "chat = Chat(pairs, reflections)"
   ]
  },
  {
   "cell_type": "code",
   "execution_count": null,
   "id": "e499f5f4",
   "metadata": {},
   "outputs": [
    {
     "name": "stdout",
     "output_type": "stream",
     "text": [
      ">hai\n",
      "Our customer service will reach out to you\n",
      ">hello\n",
      "Hey there\n",
      ">how are you\n",
      "I'm doing very well\n"
     ]
    }
   ],
   "source": [
    "# call the converse() method to start the chatbot\n",
    "chat.converse()"
   ]
  },
  {
   "cell_type": "code",
   "execution_count": null,
   "id": "d76ccf97",
   "metadata": {},
   "outputs": [],
   "source": []
  }
 ],
 "metadata": {
  "kernelspec": {
   "display_name": "Python 3 (ipykernel)",
   "language": "python",
   "name": "python3"
  },
  "language_info": {
   "codemirror_mode": {
    "name": "ipython",
    "version": 3
   },
   "file_extension": ".py",
   "mimetype": "text/x-python",
   "name": "python",
   "nbconvert_exporter": "python",
   "pygments_lexer": "ipython3",
   "version": "3.9.13"
  }
 },
 "nbformat": 4,
 "nbformat_minor": 5
}
